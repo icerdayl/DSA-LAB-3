{
 "cells": [
  {
   "cell_type": "markdown",
   "metadata": {},
   "source": [
    "## Ahiezer Dayl P. Dalangin\n",
    "### BSCpE 2-3\n",
    "## LABORATORY ACTIVITY 3 \n"
   ]
  },
  {
   "cell_type": "markdown",
   "metadata": {},
   "source": [
    "## EXERCISE 1\n",
    "### Square the Odd"
   ]
  },
  {
   "cell_type": "code",
   "execution_count": 5,
   "metadata": {},
   "outputs": [
    {
     "name": "stdout",
     "output_type": "stream",
     "text": [
      "[9]\n",
      "[1, 1]\n"
     ]
    }
   ],
   "source": [
    "# Provide a List\n",
    "list1 = [2, 4, 3]\n",
    "list2 = [0, 0, 1, 1]\n",
    "\n",
    "# List comprehension to get the squares of odd numbers\n",
    "odd1 = [a**2 for a in list1 if a % 2 == 1]\n",
    "odd2 = [a**2 for a in list2 if a % 2 == 1]\n",
    "\n",
    "# Display the result\n",
    "print(odd1)  \n",
    "print(odd2)  "
   ]
  },
  {
   "cell_type": "markdown",
   "metadata": {},
   "source": [
    "## EXERCISE 2\n",
    "### Combine Tuples"
   ]
  },
  {
   "cell_type": "code",
   "execution_count": 4,
   "metadata": {},
   "outputs": [
    {
     "name": "stdout",
     "output_type": "stream",
     "text": [
      "[(1, 'mark'), (2, 'alice'), (3, 'john')]\n"
     ]
    }
   ],
   "source": [
    "# Provide a List\n",
    "list1 = [1, 2, 3]\n",
    "list2 = [\"mark\", \"alice\", \"john\"]\n",
    "\n",
    "# List comprehension to flatten the list of tuples\n",
    "listOfTuple = [(list1[a], list2[a]) for a in range(len(list1))]\n",
    "\n",
    "# Display the result\n",
    "print(listOfTuple)"
   ]
  },
  {
   "cell_type": "markdown",
   "metadata": {},
   "source": [
    "## EXERCISE 3\n",
    "### Vowel to Upper Case"
   ]
  },
  {
   "cell_type": "code",
   "execution_count": 7,
   "metadata": {},
   "outputs": [
    {
     "name": "stdout",
     "output_type": "stream",
     "text": [
      "hEllO wOrld\n"
     ]
    }
   ],
   "source": [
    "# Input a word\n",
    "word = input (\"Enter a word: \")\n",
    "\n",
    "# List comprehension to convert the vowels to uppercase\n",
    "upper = ([char.upper() if char in 'aeiouAEIOU' else char for char in word])\n",
    "\n",
    "# Display the result\n",
    "print (''.join(upper))"
   ]
  },
  {
   "cell_type": "markdown",
   "metadata": {},
   "source": [
    "-------------------------------------------------------------------------END OF PROGRAM-----------------------------------------------------------------------------------"
   ]
  }
 ],
 "metadata": {
  "kernelspec": {
   "display_name": "Python 3",
   "language": "python",
   "name": "python3"
  },
  "language_info": {
   "codemirror_mode": {
    "name": "ipython",
    "version": 3
   },
   "file_extension": ".py",
   "mimetype": "text/x-python",
   "name": "python",
   "nbconvert_exporter": "python",
   "pygments_lexer": "ipython3",
   "version": "3.12.0"
  }
 },
 "nbformat": 4,
 "nbformat_minor": 2
}
